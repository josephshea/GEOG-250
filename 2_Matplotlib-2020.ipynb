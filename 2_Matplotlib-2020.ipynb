{
 "cells": [
  {
   "cell_type": "markdown",
   "metadata": {},
   "source": [
    "# Lab 2: Matplotlib and Pyplot\n",
    "This lab will expand your Python horizons and introduce you to `Matplotlib`, the basic plotting/graphing library of Python.\n",
    "\n",
    "Matplotlib tries to make easy things easy and hard things possible. You can generate plots, histograms, power spectra, bar charts, errorcharts, scatterplots, etc., with just a few lines of code. "
   ]
  },
  {
   "cell_type": "markdown",
   "metadata": {},
   "source": [
    "`matplotlib.pyplot` is a collection of command style functions. Each pyplot function makes some change to a figure: e.g., creates a figure, creates a plotting area in a figure, plots some lines in a plotting area, decorates the plot with labels, etc.\n",
    "\n",
    "matplotlib.pyplot keeps track of things like the current figure and plotting area, and the plotting functions that you call in your code are directed to the current graph or figure axes. Please note that \"axes\" here and in most places in the documentation refers to the axes part of a figure and not the strict mathematical term for more than one axis.\n",
    "\n",
    "References (and other examples): \n",
    "- https://matplotlib.org/users/pyplot_tutorial.html\n",
    "- https://nbviewer.jupyter.org/github/matplotlib/AnatomyOfMatplotlib/tree/master/\n",
    "- https://matplotlib.org/3.1.1/tutorials/introductory/images.html#sphx-glr-tutorials-introductory-images-py\n"
   ]
  },
  {
   "cell_type": "markdown",
   "metadata": {},
   "source": [
    "## Getting started"
   ]
  },
  {
   "cell_type": "code",
   "execution_count": 1,
   "metadata": {},
   "outputs": [],
   "source": [
    "# PREAMBLE \n",
    "# import the packages used in this lab\n",
    "# the magic function (%matplotlib inline) will make plotting commands appear in each notebook cell\n",
    "# if you don't use the magic function, you have to call plt.show() to see the output of your plotting commands...\n",
    "import numpy as np\n",
    "import matplotlib.pyplot as plt\n",
    "import matplotlib.image as mpimg\n",
    "import gdal\n",
    "\n",
    "%matplotlib inline"
   ]
  },
  {
   "cell_type": "markdown",
   "metadata": {},
   "source": [
    "### Figures\n",
    "Matplotlib plots your data on `figures` which contain one or more `Axes` where your data are plotted. The simplest way to create an empty figure is to use the `plt.figure` command. Data can then be plotted on the *current* axes using  `plt.plot`:  "
   ]
  },
  {
   "cell_type": "code",
   "execution_count": null,
   "metadata": {},
   "outputs": [],
   "source": [
    "plt.figure() #create an empty figure and axes using subplot command\n",
    "\n",
    "x = [1,2,3,4]\n",
    "y = [1,4,2,3]\n",
    "plt.plot(x,y)   # plot data on the current axes"
   ]
  },
  {
   "cell_type": "markdown",
   "metadata": {},
   "source": [
    " You can change the dimensions of the figure using the `figsize = (width,height)` argument when creating the figure, where width and height are in inches. The default figure size is 6x4 inches. "
   ]
  },
  {
   "cell_type": "code",
   "execution_count": null,
   "metadata": {},
   "outputs": [],
   "source": [
    "plt.figure(figsize=(10,4)) # create a second figure\n",
    "plt.plot(x,y) #create axes using subplot command"
   ]
  },
  {
   "cell_type": "markdown",
   "metadata": {},
   "source": [
    "You can specify the names of the axes when you add them, or you can directly call plotting commands and the axes are assigned automatically (as above)."
   ]
  },
  {
   "cell_type": "code",
   "execution_count": null,
   "metadata": {},
   "outputs": [],
   "source": [
    "# make some data\n",
    "x = np.arange(0,10,0.1)  # review: what function is used here, and what does this do? \n",
    "y = np.sin(x)            # review: what package/function are we accessing? What argument is passed?\n",
    "fig,ax = plt.subplots()\n",
    "ax.plot(x,y)            # call the plot function from the pyplot (plt) package"
   ]
  },
  {
   "cell_type": "markdown",
   "metadata": {},
   "source": [
    "Once the graph has been created, additional `plt` calls can be used to customize the axis labels, the plot title, create a legend, etc. Again, these are done on the *current* axes."
   ]
  },
  {
   "cell_type": "code",
   "execution_count": null,
   "metadata": {
    "scrolled": true
   },
   "outputs": [],
   "source": [
    "plt.plot(x,y)\n",
    "plt.xlabel('x')          # add an x-label\n",
    "plt.ylabel('sin(x)')     # add a y-label\n",
    "plt.title('A plot')      # add a title"
   ]
  },
  {
   "cell_type": "markdown",
   "metadata": {},
   "source": [
    "These simple plots can also be customized: line colo(u)r, thickness, type. Points can be added and the line can be removed completely to make a scatterplot. The x- and y-limits can be set manually using `plt.xlim` or `plt.ylim`. To add a legend, label the line in the plot command, and use the `plt.legend()` call. "
   ]
  },
  {
   "cell_type": "code",
   "execution_count": null,
   "metadata": {},
   "outputs": [],
   "source": [
    "plt.plot(x,y,'--',linewidth=3,color='red',label='data series')\n",
    "plt.xlabel('x')\n",
    "plt.ylabel('sin(x)')\n",
    "plt.title('A plot')\n",
    "plt.xlim((-1,11))  # minimum and maximum values on the x-axis\n",
    "plt.ylim((-2,2)) # minimum and maximum values on the y-axis\n",
    "plt.legend() # add a legend"
   ]
  },
  {
   "cell_type": "markdown",
   "metadata": {},
   "source": [
    "Search the help function for `plt.plot` and discuss the different plotting options. "
   ]
  },
  {
   "cell_type": "code",
   "execution_count": null,
   "metadata": {},
   "outputs": [],
   "source": [
    "plt.plot?"
   ]
  },
  {
   "cell_type": "markdown",
   "metadata": {},
   "source": [
    "**Exercise 1:** Create a variable `new_y` with the same length as `x`, that is made of random numbers (use the `np.random.randn` function). Plot x and new_y and specify color, line style, labels, and title. Put the legend in the lower right corner of the figure.  "
   ]
  },
  {
   "cell_type": "code",
   "execution_count": null,
   "metadata": {},
   "outputs": [],
   "source": []
  },
  {
   "cell_type": "markdown",
   "metadata": {},
   "source": [
    "## Axes\n",
    "\n",
    "Axes are created by default when you plot data. But axes can also be specified and plotting commands are then directed at each specific axis in turn. The `set` command is used to add labels and titles and set the limits (`xlim` and `ylim`) of the axes. "
   ]
  },
  {
   "cell_type": "code",
   "execution_count": null,
   "metadata": {},
   "outputs": [],
   "source": [
    "#Create a figure and plot with axes\n",
    "fig = plt.figure()\n",
    "ax = fig.add_subplot(111) # add_subplot (1 row, 1 column, first subplot).\n",
    "ax.set(title='An Example Axes', ylabel='Y-Axis', xlabel='X-Axis')"
   ]
  },
  {
   "cell_type": "code",
   "execution_count": null,
   "metadata": {},
   "outputs": [],
   "source": [
    "# create another figure\n",
    "fig = plt.figure()\n",
    "# first subplot\n",
    "ax1 = fig.add_subplot(121)\n",
    "ax1.set(xlim=[0.5, 4.5], ylim=[-2, 8], title='Subplot 1',\n",
    "       ylabel='Y-Axis', xlabel='X-Axis')\n",
    "# second subplot\n",
    "ax2 = fig.add_subplot(122) # what changed?\n",
    "ax2.set(xlim=[0.5, 4.5], ylim=[-2, 8], title='Subplot 2',\n",
    "       ylabel='Y-Axis', xlabel='X-Axis')\n",
    "\n",
    "\n",
    "plt.tight_layout() # What does this do? Comment it out and run the cell again."
   ]
  },
  {
   "cell_type": "markdown",
   "metadata": {},
   "source": [
    "## Basic Plot Types\n",
    "\n",
    "### Data series\n",
    "Use `plt.plot` for simple point and line plots. Use `plt.scatter` for true (x,y) plots that intend to show correlation (or lack thereof). With scatterplots you can also code data points by a third variable. "
   ]
  },
  {
   "cell_type": "code",
   "execution_count": null,
   "metadata": {},
   "outputs": [],
   "source": [
    "x = np.arange(100) # what type of data structure does this produce?\n",
    "y = x + np.random.randn(100)*10\n",
    "plt.figure()\n",
    "plt.scatter(x, y)\n",
    "plt.xlabel('x')\n",
    "plt.ylabel('y')\n",
    "\n",
    "# create a new variable z\n",
    "z = y**2\n",
    "plt.figure()\n",
    "plt.scatter(x, y, c=z)\n",
    "cb = plt.colorbar() # add a colorbar object `cb` to the plot. \n",
    "cb.set_label('z') # add a labelt to the colorbar object\n",
    "plt.xlabel('x')\n",
    "plt.ylabel('y')"
   ]
  },
  {
   "cell_type": "markdown",
   "metadata": {},
   "source": [
    "**Exercise 2:** `plt.scatter` can also take a fourth dimension that scales the size of the markers! Search the help function to see how this can be done, and create a fourth variable `c` (same length as x, y, and z!). Add this to a new scatter plot. "
   ]
  },
  {
   "cell_type": "markdown",
   "metadata": {},
   "source": [
    "### Barplots\n",
    "Barplots are commonly used for *categorical* variables or counts of data. The `plt.bar()` function requires the position of the data and the height of the bars: "
   ]
  },
  {
   "cell_type": "code",
   "execution_count": null,
   "metadata": {
    "scrolled": true
   },
   "outputs": [],
   "source": [
    "# create data\n",
    "languages = ('Python', 'R', 'Matlab', 'Octave') # a list of coding languages\n",
    "usage = [10,6,8,1]                      # the data to be plotted\n",
    "\n",
    "# create figure\n",
    "plt.figure()\n",
    "ax = plt.subplot(111)\n",
    "x_pos = np.arange(len(languages))               # an array with the tick positions\n",
    "plt.bar(x_pos, usage)\n",
    "plt.xticks(x_pos, languages)                   # add tick names \n",
    "plt.ylabel('Usage')\n",
    "plt.title('Programming language usage')"
   ]
  },
  {
   "cell_type": "markdown",
   "metadata": {},
   "source": [
    "**Exercise 3:** Change the barplot code to plot gray bars. "
   ]
  },
  {
   "cell_type": "code",
   "execution_count": null,
   "metadata": {},
   "outputs": [],
   "source": []
  },
  {
   "cell_type": "markdown",
   "metadata": {},
   "source": [
    "**Exercise 4**: Search for how to make horizontal barplots, and modify your code to show a horizontal barplot of language usage. "
   ]
  },
  {
   "cell_type": "code",
   "execution_count": null,
   "metadata": {},
   "outputs": [],
   "source": []
  },
  {
   "cell_type": "markdown",
   "metadata": {},
   "source": [
    "### Distributions and statistical properties \n",
    "When working with large datasets, one of the first things to do is look at the *statistical distribution*. A histogram (`plt.hist`) or a boxplot (`plt.boxplot`) offer convenient ways to summarize how data are distributed. "
   ]
  },
  {
   "cell_type": "code",
   "execution_count": null,
   "metadata": {},
   "outputs": [],
   "source": [
    "plt.hist?"
   ]
  },
  {
   "cell_type": "code",
   "execution_count": null,
   "metadata": {
    "scrolled": false
   },
   "outputs": [],
   "source": [
    "mu, sigma = 100, 15   # assign mean and standard deviation for synthetic data\n",
    "\n",
    "x = mu + sigma * np.random.randn(10000) # create synthetic data set with a mean of 100\n",
    "\n",
    "# the histogram of the data\n",
    "plt.hist(x, 50, density=True, facecolor='g', edgecolor='white',alpha=0.75)\n",
    "\n",
    "plt.xlabel('Smarts')\n",
    "plt.ylabel('Probability')\n",
    "plt.title('Histogram of IQ')\n",
    "plt.text(60, .025, r'$\\mu=100,\\ \\sigma=15$')  # add text to the figure using x,y data coordinates\n",
    "plt.xlim(40, 160)\n",
    "plt.ylim(0, 0.03)\n",
    "plt.grid(True)                                  # do we need the grid? what would Tufte say?\n",
    "plt.show()\n",
    "\n",
    "print(x.mean())                             # how does the calculated mean compare? "
   ]
  },
  {
   "cell_type": "markdown",
   "metadata": {},
   "source": [
    "**Example 5:** Copy and paste the histogram code into the cell below, but change the `facecolor`, `edgecolor`, and transparency (`alpha`) of the histogram, and move the text to the right side of the figure. "
   ]
  },
  {
   "cell_type": "code",
   "execution_count": null,
   "metadata": {},
   "outputs": [],
   "source": []
  },
  {
   "cell_type": "markdown",
   "metadata": {},
   "source": [
    "#### Boxplots \n",
    "Boxplots are a convenient way of summarizing the distribution of data. They show the median value (or 50th percentile) of a dataset, the first and third quartiles (25th and 75th percentiles), the whiskers (3rd quartile + IQR, or 1st quartile - IQR) and the outliers.  "
   ]
  },
  {
   "cell_type": "code",
   "execution_count": null,
   "metadata": {},
   "outputs": [],
   "source": [
    "# boxplot example\n",
    "plt.figure()\n",
    "ax = plt.boxplot(x)"
   ]
  },
  {
   "cell_type": "code",
   "execution_count": null,
   "metadata": {},
   "outputs": [],
   "source": [
    "# Grouped boxplot example\n",
    "N = 1000\n",
    "data_set1 = np.random.normal(1, 1, N)\n",
    "data_set2 = np.random.lognormal(1, 1, N)\n",
    "data_set3 = np.random.exponential(1, N)\n",
    "\n",
    "data = [data_set1, data_set2, data_set3]\n",
    "\n",
    "fig = plt.figure()\n",
    "ax = plt.boxplot(data)\n",
    "plt.xticks([1,2,3],['Normal','Lognormal','Exponential'])  #position and label for x-ticks\n"
   ]
  },
  {
   "cell_type": "markdown",
   "metadata": {},
   "source": [
    "### Plotting Gridded Data\n",
    "\n",
    "We will be working with gridded geospatial data for much of this course, so here is a primer using a simple digital image: its a photo I took during fieldwork this summer, rescaled to make it smaller and easier to work with:\n",
    "\n",
    "<img src='data/DSC_6121.jpg'>"
   ]
  },
  {
   "cell_type": "markdown",
   "metadata": {},
   "source": [
    "The `Matplotlib.image` function can import .jpg files natively (i.e. its a base function) into Python. Other file types that have geospatial information attached (e.g. Geotiffs) require additional packages for importing, and we will get to those later.\n",
    "\n",
    "Below, the `imread` function puts the image data into a numpy array. To plot it, we use the Matplotlib function `imshow`:"
   ]
  },
  {
   "cell_type": "code",
   "execution_count": null,
   "metadata": {
    "scrolled": true
   },
   "outputs": [],
   "source": [
    "jpg = mpimg.imread('data/DSC_6121.JPG')         # file should be in your lab data folder\n",
    "imgplot = plt.imshow(jpg)"
   ]
  },
  {
   "cell_type": "markdown",
   "metadata": {},
   "source": [
    "Like all digital photographs, this one has three bands: one each for Red, Green, and Blue. And the image is represented in python as a series of *arrays* (gridded data). We can check the shape of the image data using the `shape` function, and the datatype using the `type` function:"
   ]
  },
  {
   "cell_type": "code",
   "execution_count": null,
   "metadata": {},
   "outputs": [],
   "source": [
    "print(jpg.shape)                                # what is the shape of this array?\n",
    "print('Data type:'+ str(type(jpg[0,0,0])))      # what type of data is this? "
   ]
  },
  {
   "cell_type": "markdown",
   "metadata": {},
   "source": [
    " The data used to create the image has 563 rows, and 1000 columns and three bands - each element is an unsigned 8-bit integer, so the values go from zero to 255. Lets use indexing to take a small sample (5x5) of the first band:"
   ]
  },
  {
   "cell_type": "code",
   "execution_count": null,
   "metadata": {
    "scrolled": true
   },
   "outputs": [],
   "source": [
    "jpg[0:5,0:5,0]  # here a subset of the data for the first band"
   ]
  },
  {
   "cell_type": "markdown",
   "metadata": {},
   "source": [
    "Now lets look at the RGB values for a single pixel (0,0): "
   ]
  },
  {
   "cell_type": "code",
   "execution_count": null,
   "metadata": {},
   "outputs": [],
   "source": [
    "jpg[0,0,:]  # RGB triplet - three values for a single pixel"
   ]
  },
  {
   "cell_type": "markdown",
   "metadata": {},
   "source": [
    "Matplotlib is treating each pixel of the image as an RGB triplet. To make a pseudo-colour plot, we can extract one *slice* of the RGB values for the entire image using array indexing. "
   ]
  },
  {
   "cell_type": "code",
   "execution_count": null,
   "metadata": {
    "scrolled": false
   },
   "outputs": [],
   "source": [
    "jpg_0 = jpg[:, :, 0] # what does this indexing do??\n",
    "\n",
    "plt.imshow(jpg_0)"
   ]
  },
  {
   "cell_type": "markdown",
   "metadata": {},
   "source": [
    "The default colormap (used above) is called 'viridis'. The colormap can be specified in imshow (or any of the other array plot commands) using the `cmap` flag, and the `plt.colorbar` function adds a colorbar to your plot. \n",
    "\n",
    "A note about `imshow`: The first element of an array is found at position (0,0). By default, `imshow` flips the array to show the origin (0,0) in the top left (upper) corner. You can change this by adding the flag `origin = lower` to your imshow command. This may come in handy later..."
   ]
  },
  {
   "cell_type": "code",
   "execution_count": null,
   "metadata": {
    "scrolled": true
   },
   "outputs": [],
   "source": [
    "plt.imshow(jpg_0,origin='lower')\n",
    "plt.colorbar()"
   ]
  },
  {
   "cell_type": "markdown",
   "metadata": {},
   "source": [
    "We can also plot a histogram of the data stored in the array. To do this you need to *flatten* the 2-D array into a single *vector* using the `np.ravel` function: \n"
   ]
  },
  {
   "cell_type": "code",
   "execution_count": null,
   "metadata": {},
   "outputs": [],
   "source": [
    "print(jpg_0.shape)          # shape of the image array\n",
    "\n",
    "jpg_0_vec = np.ravel(jpg_0) # flatten the 2-D array to a 1-D vector\n",
    "\n",
    "print(len(jpg_0_vec))       # notice anything?"
   ]
  },
  {
   "cell_type": "code",
   "execution_count": null,
   "metadata": {},
   "outputs": [],
   "source": [
    "n, bins, patches = plt.hist(jpg_0_vec,bins=256)  # what happens if you try to do this on the array?\n",
    "plt.xlabel('digital number')\n",
    "plt.ylabel('Count')"
   ]
  },
  {
   "cell_type": "markdown",
   "metadata": {},
   "source": [
    " Loocking at the histogram, we can also change the **limits** to stretch the image, or improve the contrast. "
   ]
  },
  {
   "cell_type": "code",
   "execution_count": null,
   "metadata": {
    "scrolled": true
   },
   "outputs": [],
   "source": [
    "#plt.imshow(jpg_0, clim=(20, 100)) # Method 1 for colour limits: clim \n",
    "plt.imshow(jpg_0, vmin=10, vmax=100,cmap='gray') # Method 2 for colour limits: vmin, vmax\n",
    "plt.colorbar()"
   ]
  },
  {
   "cell_type": "markdown",
   "metadata": {},
   "source": [
    "**Exercise 5:** Create a two figure with two sub-plots, showing the original band 0 data, and the stretched data that highlights the snow and ice. Add colourbars and appropriate titles.  "
   ]
  },
  {
   "cell_type": "markdown",
   "metadata": {
    "collapsed": true
   },
   "source": [
    "## Colormaps and Saving Your Figures\n",
    "The default colormap in Matplotlib is called 'viridis': it ranges from yellows to greens to blues. To change to colormap of a plot, use the `cmap` flag in the `imshow` command, and specify the name of the color palette you want to use. A range of default palettes can be seen here: https://matplotlib.org/users/colormaps.html\n",
    "\n",
    "To save your figures, use the `plt.savefig` function. You specify the filepath and filename, the resolution, and a range of other options. Matplotlib can export .jpeg, .png, .pdf, .tif, etc. \n",
    "\n",
    "\n"
   ]
  },
  {
   "cell_type": "code",
   "execution_count": null,
   "metadata": {
    "scrolled": false
   },
   "outputs": [],
   "source": [
    "plt.figure()\n",
    "plt.imshow(jpg_0,cmap='magma')\n",
    "plt.colorbar()\n",
    "plt.savefig('jpg_0-magma.png', resolution=300)"
   ]
  },
  {
   "cell_type": "markdown",
   "metadata": {},
   "source": [
    "As a last example of working with gridded data, we will open a file that contains gridded elevation data from the Shuttle Radar Topography Mission (SRTM), a NASA program that produced *tiles* of digital elevation data for the entire planet. \n",
    "\n",
    "The two lines of code below will open the dataset for you: gdal is a powerful geospatial package that we will dig into in greater detail later. "
   ]
  },
  {
   "cell_type": "code",
   "execution_count": null,
   "metadata": {},
   "outputs": [],
   "source": [
    "# use the gdal package to open the geotiff\n",
    "z = gdal.Open('data/srtm_11_02.tif').ReadAsArray()  # WE WILL GET BACK TO THIS \n",
    "print(z.shape)                                      # what is the shape of this array? \n",
    "plt.imshow(z)"
   ]
  },
  {
   "cell_type": "markdown",
   "metadata": {},
   "source": [
    "Our first look isn't so impressive: the values for ocean are set to -32678 (*why this number?*). Obviously this isn't a real value, but is a flag for a null value. Luckily, we know how to rescale the image to something appropriate:"
   ]
  },
  {
   "cell_type": "code",
   "execution_count": null,
   "metadata": {
    "scrolled": true
   },
   "outputs": [],
   "source": [
    "plt.imshow(z, vmin=0)\n",
    "plt.colorbar(label='Elevation [m]')  # label your colorbar and give it units"
   ]
  },
  {
   "cell_type": "markdown",
   "metadata": {},
   "source": [
    "Regular and irregularly gridded data can also be contoured: "
   ]
  },
  {
   "cell_type": "markdown",
   "metadata": {},
   "source": [
    "# Lab Assignment [57 marks]\n",
    "With this lab, and all labs, you should have a 'data' folder that includes all the data you need. Next week's lab will get more specific with file input and output. "
   ]
  },
  {
   "cell_type": "markdown",
   "metadata": {},
   "source": [
    "## Question 1 [15 marks]\n",
    "The Berkeley Earth project has estimated the annual global temperature anomaly (departure from the mean, in degrees Celsius) for the entire from 1850 to present. http://berkeleyearth.org/data/\n",
    "\n",
    "The data are opened for you with the code below. Your task is to create the following graphs: \n",
    "\n",
    "- a) a line plot of year (x-axis) and temperature anomaly (y-axis). Label the x and y axes. (2 marks)\n",
    "- b) a scatter plot of year (x-axis) and temperature anomaly (y-axis) that uses red circles for the points. Label the x and y axes. (3 marks)\n",
    "- c) a scatter plot of year (x-axis) and temperature anomaly (y-axis) with the points colour coded by the temperature anomaly. Use the `RdBu_r` color palette, and set vmin and vmax to -1 and +1, respectively. Add a color bar. (5 marks)\n",
    "- d) a two panel plot with (i) a histogram of temperature anomalies in the first half of the record, and (ii) a histogram of anomalies in the second half of the record (5 marks)"
   ]
  },
  {
   "cell_type": "code",
   "execution_count": null,
   "metadata": {},
   "outputs": [],
   "source": [
    "import pandas as pd\n",
    "temp = pd.read_csv('data/berkeley-land+ocean-anomaly.csv')\n",
    "temp.head()\n"
   ]
  },
  {
   "cell_type": "code",
   "execution_count": null,
   "metadata": {
    "scrolled": true
   },
   "outputs": [],
   "source": []
  },
  {
   "cell_type": "markdown",
   "metadata": {},
   "source": [
    "## Question 2 [10 marks] \n",
    "Use the code below to open and examine the file 'USGS_earthquakes-simple.csv' (we will get into file input/output next week). This file contains a list of all earthquakes (M4.5 or greater) recorded over the entire planet between 12 and 19 August 2019. Using the `dat.head` function in pandas, you can see the different columns: latitude, longitude, depth, and mag. \n",
    "\n",
    "The code below will also assign the different variables from this data frame. \n",
    "\n",
    "Your task is to create the following figures (don't forget x- and y-axis labels): \n",
    "- a) a simple scatterplot of earthquakes by latitude and longitude [2 marks]\n",
    "- b) a scatterplot of earthquakes colour coded by magnitude (include a colorbar) [3 marks]\n",
    "- c) a scatterplot of earthquakes colour coded by magnitude and scaled to the depth of the earthquake (include a colorbar)[5 marks]\n",
    "\n"
   ]
  },
  {
   "cell_type": "code",
   "execution_count": 3,
   "metadata": {},
   "outputs": [
    {
     "name": "stdout",
     "output_type": "stream",
     "text": [
      "<bound method NDFrame.head of     latitude  longitude   depth  mag\n",
      "0   -20.6030   -68.8946  121.99  4.6\n",
      "1    45.0425    79.8295   16.38  4.5\n",
      "2    12.5916   -87.5317   83.28  4.8\n",
      "3   -59.7251   -27.7370   85.77  5.1\n",
      "4    -0.8080   128.3121   10.00  4.8\n",
      "..       ...        ...     ...  ...\n",
      "85   -9.5918   113.8958   35.00  4.9\n",
      "86  -20.7233   -69.2883  107.66  4.7\n",
      "87   35.8880    25.6007   71.46  4.5\n",
      "88   30.4168    94.7499   10.00  4.8\n",
      "89  -20.0512   -64.5684   10.00  4.6\n",
      "\n",
      "[90 rows x 4 columns]>\n"
     ]
    }
   ],
   "source": [
    "import pandas as pd                                    # pandas module\n",
    "dat = pd.read_csv('data/USGS-earthquakes-simple.csv')  # read the csv file\n",
    "print(dat.head)                                               # print the header\n",
    "\n",
    "longitude = dat['longitude']                           # assign the variable longitude\n",
    "latitude = dat['latitude']                             # assign the variable latitude\n",
    "depth = dat['depth']                                   # assign the variable depth\n",
    "mag = dat['mag']                                       # assign the variable mag"
   ]
  },
  {
   "cell_type": "markdown",
   "metadata": {},
   "source": [
    "## Question 3 [17 marks]\n",
    "This question will have you working with gridded elevation data from the Shuttle Radar Topography Mission (SRTM) that you worked with earlier.  Reuse your code from above, and then write code to do the following: \n",
    "\n",
    "- a) extract a single value from the array you import, and print the type of data. [2 marks]\n",
    "- b) create a boxplot of the elevation data, but first remove any values less than zero. [3 marks]\n",
    "- c) use imshow to create a figure of the elevation data, and based on your boxplot choose the 25th and 75th percentiles as the elevation range for the imshow plot. Add a labelled colorbar to your plot [3 marks]\n",
    "- c) create a 500 x 500 subset of the data (experiment here and make sure your subset is entirely over land!) and calculate the maximum and the minimum elevation [3 marks]\n",
    "- d) create three new figures that use this subset of data [6 marks]: \n",
    "    - i) use `imshow` with the `terrain` colormap \n",
    "    - ii) create a histogram of the elevation data\n",
    "    - iii) instead of `imshow` use the `contour` function, and make each contour line gray   \n",
    "\n",
    "\n",
    "\n"
   ]
  },
  {
   "cell_type": "markdown",
   "metadata": {},
   "source": [
    "## Question 4 [15 marks]\n",
    " Use the `mpimg.imread` command to import the file `20180905_merge.png`. This image file shows Peyto Glacier, in the Canadian Rockies, on 5 September 2018. The file you are working with is a .png that was created from a geotiff, so there is no geographic information attached. Based on the field photo code above, do the following:\n",
    "- a) write a block of code that prints the dimensions of the array [1 mark]\n",
    "- b) extract data from the first band, and produce a histogram of these reflectivities, with 25 bins. Label your x- and y-axes appropriately [3 marks]\n",
    "- c) produce the following figure : \n",
    "    - a two panel (1 row, 2 columns) figure (12 x 6 inches) [1 mark]\n",
    "    - panel 1 shows the full image, and panel 2 shows a subset of the image that covers only the terminus of the glacier (you will need to play around with the indexing to figure out how to do this) [4 marks]\n",
    "    - each plot should be scaled to the same colour range: 0.025 to 0.125 [2 marks] \n",
    "    - Add the text '(a)' and '(b)' to the top left corner of each subplot [2 marks]\n",
    "    - Remove all axes (lines, markers, labels) from both plots using the `ax.axis('off')` command [1 mark].\n",
    "    - Save your figure as a .jpg image and submit with your notebook [1 mark]. \n",
    "    \n",
    "Your figure should look something like this (I put my name on mine!): \n",
    "<img src='two-panel-Peyto.png'>\n"
   ]
  }
 ],
 "metadata": {
  "kernelspec": {
   "display_name": "Python 3",
   "language": "python",
   "name": "python3"
  },
  "language_info": {
   "codemirror_mode": {
    "name": "ipython",
    "version": 3
   },
   "file_extension": ".py",
   "mimetype": "text/x-python",
   "name": "python",
   "nbconvert_exporter": "python",
   "pygments_lexer": "ipython3",
   "version": "3.7.6"
  }
 },
 "nbformat": 4,
 "nbformat_minor": 2
}
